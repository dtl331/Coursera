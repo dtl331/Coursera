{
    "cells": [
        {
            "metadata": {},
            "cell_type": "markdown",
            "source": "# Question 1"
        },
        {
            "metadata": {},
            "cell_type": "markdown",
            "source": "### Import table from website"
        },
        {
            "metadata": {},
            "cell_type": "code",
            "source": "import pandas as pd\n\ndfs = pd.read_html('https://en.wikipedia.org/wiki/List_of_postal_codes_of_Canada:_M')[0]\n",
            "execution_count": 2,
            "outputs": []
        },
        {
            "metadata": {},
            "cell_type": "markdown",
            "source": "### Remove all Borough = Not assigned"
        },
        {
            "metadata": {},
            "cell_type": "code",
            "source": "df = dfs[(dfs['Borough']!='Not assigned')]\ndf = df.reset_index()\ndf = df.drop(['index'], axis=1)",
            "execution_count": 3,
            "outputs": []
        },
        {
            "metadata": {},
            "cell_type": "markdown",
            "source": "### Replace Neighbourhood not assigned values"
        },
        {
            "metadata": {},
            "cell_type": "code",
            "source": "Neighborhood = df['Neighbourhood'].replace('Not assigned', df['Borough'])\ndf['Neighbourhood'] = Neighborhood",
            "execution_count": 4,
            "outputs": []
        },
        {
            "metadata": {},
            "cell_type": "markdown",
            "source": "### Aggregate Neighbourhoods"
        },
        {
            "metadata": {},
            "cell_type": "code",
            "source": "df = df.groupby(\"Postcode\").agg(lambda x:','.join(set(x)))",
            "execution_count": 5,
            "outputs": []
        },
        {
            "metadata": {},
            "cell_type": "code",
            "source": "print(df)",
            "execution_count": 6,
            "outputs": [
                {
                    "output_type": "stream",
                    "text": "                   Borough                                      Neighbourhood\nPostcode                                                                     \nM1B            Scarborough                                      Malvern,Rouge\nM1C            Scarborough               Port Union,Rouge Hill,Highland Creek\nM1E            Scarborough                    Morningside,Guildwood,West Hill\nM1G            Scarborough                                             Woburn\nM1H            Scarborough                                          Cedarbrae\nM1J            Scarborough                                Scarborough Village\nM1K            Scarborough          Kennedy Park,East Birchmount Park,Ionview\nM1L            Scarborough                      Oakridge,Clairlea,Golden Mile\nM1M            Scarborough      Scarborough Village West,Cliffside,Cliffcrest\nM1N            Scarborough                         Cliffside West,Birch Cliff\nM1P            Scarborough  Dorset Park,Wexford Heights,Scarborough Town C...\nM1R            Scarborough                                   Maryvale,Wexford\nM1S            Scarborough                                          Agincourt\nM1T            Scarborough              Sullivan,Tam O'Shanter,Clarks Corners\nM1V            Scarborough  Steeles East,Milliken,Agincourt North,L'Amorea...\nM1W            Scarborough                                    L'Amoreaux West\nM1X            Scarborough                                        Upper Rouge\nM2H             North York                                  Hillcrest Village\nM2J             North York                         Oriole,Fairview,Henry Farm\nM2K             North York                                    Bayview Village\nM2L             North York                            York Mills,Silver Hills\nM2M             North York                             Newtonbrook,Willowdale\nM2N             North York                                   Willowdale South\nM2P             North York                                    York Mills West\nM2R             North York                                    Willowdale West\nM3A             North York                                          Parkwoods\nM3B             North York                                    Don Mills North\nM3C             North York                    Don Mills South,Flemingdon Park\nM3H             North York      Bathurst Manor,Downsview North,Wilson Heights\nM3J             North York                     York University,Northwood Park\n...                    ...                                                ...\nM6C                   York                                 Humewood-Cedarvale\nM6E                   York                                Caledonia-Fairbanks\nM6G       Downtown Toronto                                           Christie\nM6H           West Toronto                        Dovercourt Village,Dufferin\nM6J           West Toronto                            Little Portugal,Trinity\nM6K           West Toronto         Exhibition Place,Parkdale Village,Brockton\nM6L             North York                   North Park,Upwood Park,Downsview\nM6M                   York        Mount Dennis,Silverthorn,Keelesdale,Del Ray\nM6N                   York                       Runnymede,The Junction North\nM6P           West Toronto                       The Junction South,High Park\nM6R           West Toronto                              Roncesvalles,Parkdale\nM6S           West Toronto                                  Swansea,Runnymede\nM7A       Downtown Toronto                                       Queen's Park\nM7R            Mississauga              Canada Post Gateway Processing Centre\nM7Y           East Toronto  Business Reply Mail Processing Centre 969 Eastern\nM8V              Etobicoke         Humber Bay Shores,Mimico South,New Toronto\nM8W              Etobicoke                              Alderwood,Long Branch\nM8X              Etobicoke        Montgomery Road,The Kingsway,Old Mill North\nM8Y              Etobicoke  King's Mill Park,Old Mill South,Kingsway Park ...\nM8Z              Etobicoke  The Queensway West,Royal York South West,Mimic...\nM9A           Queen's Park                                       Queen's Park\nM9B              Etobicoke  Islington,Cloverdale,West Deane Park,Martin Gr...\nM9C              Etobicoke  Markland Wood,Eringate,Bloordale Gardens,Old B...\nM9L             North York                                      Humber Summit\nM9M             North York                                    Emery,Humberlea\nM9N                   York                                             Weston\nM9P              Etobicoke                                          Westmount\nM9R              Etobicoke  Kingsview Village,St. Phillips,Richview Garden...\nM9V              Etobicoke  Albion Gardens,Jamestown,Thistletown,Humbergat...\nM9W              Etobicoke                                          Northwest\n\n[103 rows x 2 columns]\n",
                    "name": "stdout"
                }
            ]
        },
        {
            "metadata": {},
            "cell_type": "code",
            "source": "",
            "execution_count": 99,
            "outputs": []
        },
        {
            "metadata": {},
            "cell_type": "markdown",
            "source": "# Question 2"
        },
        {
            "metadata": {},
            "cell_type": "markdown",
            "source": "### Get longitude and latitude"
        },
        {
            "metadata": {},
            "cell_type": "code",
            "source": "geo_coords=pd.read_csv(\"https://cocl.us/Geospatial_data\")\ndf['Latitude']=geo_coords['Latitude'].values\ndf['Longitude']=geo_coords['Longitude'].values\ndf",
            "execution_count": 9,
            "outputs": [
                {
                    "output_type": "execute_result",
                    "execution_count": 9,
                    "data": {
                        "text/plain": "                   Borough                                      Neighbourhood  \\\nPostcode                                                                        \nM1B            Scarborough                                      Malvern,Rouge   \nM1C            Scarborough               Port Union,Rouge Hill,Highland Creek   \nM1E            Scarborough                    Morningside,Guildwood,West Hill   \nM1G            Scarborough                                             Woburn   \nM1H            Scarborough                                          Cedarbrae   \nM1J            Scarborough                                Scarborough Village   \nM1K            Scarborough          Kennedy Park,East Birchmount Park,Ionview   \nM1L            Scarborough                      Oakridge,Clairlea,Golden Mile   \nM1M            Scarborough      Scarborough Village West,Cliffside,Cliffcrest   \nM1N            Scarborough                         Cliffside West,Birch Cliff   \nM1P            Scarborough  Dorset Park,Wexford Heights,Scarborough Town C...   \nM1R            Scarborough                                   Maryvale,Wexford   \nM1S            Scarborough                                          Agincourt   \nM1T            Scarborough              Sullivan,Tam O'Shanter,Clarks Corners   \nM1V            Scarborough  Steeles East,Milliken,Agincourt North,L'Amorea...   \nM1W            Scarborough                                    L'Amoreaux West   \nM1X            Scarborough                                        Upper Rouge   \nM2H             North York                                  Hillcrest Village   \nM2J             North York                         Oriole,Fairview,Henry Farm   \nM2K             North York                                    Bayview Village   \nM2L             North York                            York Mills,Silver Hills   \nM2M             North York                             Newtonbrook,Willowdale   \nM2N             North York                                   Willowdale South   \nM2P             North York                                    York Mills West   \nM2R             North York                                    Willowdale West   \nM3A             North York                                          Parkwoods   \nM3B             North York                                    Don Mills North   \nM3C             North York                    Don Mills South,Flemingdon Park   \nM3H             North York      Bathurst Manor,Downsview North,Wilson Heights   \nM3J             North York                     York University,Northwood Park   \n...                    ...                                                ...   \nM6C                   York                                 Humewood-Cedarvale   \nM6E                   York                                Caledonia-Fairbanks   \nM6G       Downtown Toronto                                           Christie   \nM6H           West Toronto                        Dovercourt Village,Dufferin   \nM6J           West Toronto                            Little Portugal,Trinity   \nM6K           West Toronto         Exhibition Place,Parkdale Village,Brockton   \nM6L             North York                   North Park,Upwood Park,Downsview   \nM6M                   York        Mount Dennis,Silverthorn,Keelesdale,Del Ray   \nM6N                   York                       Runnymede,The Junction North   \nM6P           West Toronto                       The Junction South,High Park   \nM6R           West Toronto                              Roncesvalles,Parkdale   \nM6S           West Toronto                                  Swansea,Runnymede   \nM7A       Downtown Toronto                                       Queen's Park   \nM7R            Mississauga              Canada Post Gateway Processing Centre   \nM7Y           East Toronto  Business Reply Mail Processing Centre 969 Eastern   \nM8V              Etobicoke         Humber Bay Shores,Mimico South,New Toronto   \nM8W              Etobicoke                              Alderwood,Long Branch   \nM8X              Etobicoke        Montgomery Road,The Kingsway,Old Mill North   \nM8Y              Etobicoke  King's Mill Park,Old Mill South,Kingsway Park ...   \nM8Z              Etobicoke  The Queensway West,Royal York South West,Mimic...   \nM9A           Queen's Park                                       Queen's Park   \nM9B              Etobicoke  Islington,Cloverdale,West Deane Park,Martin Gr...   \nM9C              Etobicoke  Markland Wood,Eringate,Bloordale Gardens,Old B...   \nM9L             North York                                      Humber Summit   \nM9M             North York                                    Emery,Humberlea   \nM9N                   York                                             Weston   \nM9P              Etobicoke                                          Westmount   \nM9R              Etobicoke  Kingsview Village,St. Phillips,Richview Garden...   \nM9V              Etobicoke  Albion Gardens,Jamestown,Thistletown,Humbergat...   \nM9W              Etobicoke                                          Northwest   \n\n           Latitude  Longitude  \nPostcode                        \nM1B       43.806686 -79.194353  \nM1C       43.784535 -79.160497  \nM1E       43.763573 -79.188711  \nM1G       43.770992 -79.216917  \nM1H       43.773136 -79.239476  \nM1J       43.744734 -79.239476  \nM1K       43.727929 -79.262029  \nM1L       43.711112 -79.284577  \nM1M       43.716316 -79.239476  \nM1N       43.692657 -79.264848  \nM1P       43.757410 -79.273304  \nM1R       43.750072 -79.295849  \nM1S       43.794200 -79.262029  \nM1T       43.781638 -79.304302  \nM1V       43.815252 -79.284577  \nM1W       43.799525 -79.318389  \nM1X       43.836125 -79.205636  \nM2H       43.803762 -79.363452  \nM2J       43.778517 -79.346556  \nM2K       43.786947 -79.385975  \nM2L       43.757490 -79.374714  \nM2M       43.789053 -79.408493  \nM2N       43.770120 -79.408493  \nM2P       43.752758 -79.400049  \nM2R       43.782736 -79.442259  \nM3A       43.753259 -79.329656  \nM3B       43.745906 -79.352188  \nM3C       43.725900 -79.340923  \nM3H       43.754328 -79.442259  \nM3J       43.767980 -79.487262  \n...             ...        ...  \nM6C       43.693781 -79.428191  \nM6E       43.689026 -79.453512  \nM6G       43.669542 -79.422564  \nM6H       43.669005 -79.442259  \nM6J       43.647927 -79.419750  \nM6K       43.636847 -79.428191  \nM6L       43.713756 -79.490074  \nM6M       43.691116 -79.476013  \nM6N       43.673185 -79.487262  \nM6P       43.661608 -79.464763  \nM6R       43.648960 -79.456325  \nM6S       43.651571 -79.484450  \nM7A       43.662301 -79.389494  \nM7R       43.636966 -79.615819  \nM7Y       43.662744 -79.321558  \nM8V       43.605647 -79.501321  \nM8W       43.602414 -79.543484  \nM8X       43.653654 -79.506944  \nM8Y       43.636258 -79.498509  \nM8Z       43.628841 -79.520999  \nM9A       43.667856 -79.532242  \nM9B       43.650943 -79.554724  \nM9C       43.643515 -79.577201  \nM9L       43.756303 -79.565963  \nM9M       43.724766 -79.532242  \nM9N       43.706876 -79.518188  \nM9P       43.696319 -79.532242  \nM9R       43.688905 -79.554724  \nM9V       43.739416 -79.588437  \nM9W       43.706748 -79.594054  \n\n[103 rows x 4 columns]",
                        "text/html": "<div>\n<style scoped>\n    .dataframe tbody tr th:only-of-type {\n        vertical-align: middle;\n    }\n\n    .dataframe tbody tr th {\n        vertical-align: top;\n    }\n\n    .dataframe thead th {\n        text-align: right;\n    }\n</style>\n<table border=\"1\" class=\"dataframe\">\n  <thead>\n    <tr style=\"text-align: right;\">\n      <th></th>\n      <th>Borough</th>\n      <th>Neighbourhood</th>\n      <th>Latitude</th>\n      <th>Longitude</th>\n    </tr>\n    <tr>\n      <th>Postcode</th>\n      <th></th>\n      <th></th>\n      <th></th>\n      <th></th>\n    </tr>\n  </thead>\n  <tbody>\n    <tr>\n      <th>M1B</th>\n      <td>Scarborough</td>\n      <td>Malvern,Rouge</td>\n      <td>43.806686</td>\n      <td>-79.194353</td>\n    </tr>\n    <tr>\n      <th>M1C</th>\n      <td>Scarborough</td>\n      <td>Port Union,Rouge Hill,Highland Creek</td>\n      <td>43.784535</td>\n      <td>-79.160497</td>\n    </tr>\n    <tr>\n      <th>M1E</th>\n      <td>Scarborough</td>\n      <td>Morningside,Guildwood,West Hill</td>\n      <td>43.763573</td>\n      <td>-79.188711</td>\n    </tr>\n    <tr>\n      <th>M1G</th>\n      <td>Scarborough</td>\n      <td>Woburn</td>\n      <td>43.770992</td>\n      <td>-79.216917</td>\n    </tr>\n    <tr>\n      <th>M1H</th>\n      <td>Scarborough</td>\n      <td>Cedarbrae</td>\n      <td>43.773136</td>\n      <td>-79.239476</td>\n    </tr>\n    <tr>\n      <th>M1J</th>\n      <td>Scarborough</td>\n      <td>Scarborough Village</td>\n      <td>43.744734</td>\n      <td>-79.239476</td>\n    </tr>\n    <tr>\n      <th>M1K</th>\n      <td>Scarborough</td>\n      <td>Kennedy Park,East Birchmount Park,Ionview</td>\n      <td>43.727929</td>\n      <td>-79.262029</td>\n    </tr>\n    <tr>\n      <th>M1L</th>\n      <td>Scarborough</td>\n      <td>Oakridge,Clairlea,Golden Mile</td>\n      <td>43.711112</td>\n      <td>-79.284577</td>\n    </tr>\n    <tr>\n      <th>M1M</th>\n      <td>Scarborough</td>\n      <td>Scarborough Village West,Cliffside,Cliffcrest</td>\n      <td>43.716316</td>\n      <td>-79.239476</td>\n    </tr>\n    <tr>\n      <th>M1N</th>\n      <td>Scarborough</td>\n      <td>Cliffside West,Birch Cliff</td>\n      <td>43.692657</td>\n      <td>-79.264848</td>\n    </tr>\n    <tr>\n      <th>M1P</th>\n      <td>Scarborough</td>\n      <td>Dorset Park,Wexford Heights,Scarborough Town C...</td>\n      <td>43.757410</td>\n      <td>-79.273304</td>\n    </tr>\n    <tr>\n      <th>M1R</th>\n      <td>Scarborough</td>\n      <td>Maryvale,Wexford</td>\n      <td>43.750072</td>\n      <td>-79.295849</td>\n    </tr>\n    <tr>\n      <th>M1S</th>\n      <td>Scarborough</td>\n      <td>Agincourt</td>\n      <td>43.794200</td>\n      <td>-79.262029</td>\n    </tr>\n    <tr>\n      <th>M1T</th>\n      <td>Scarborough</td>\n      <td>Sullivan,Tam O'Shanter,Clarks Corners</td>\n      <td>43.781638</td>\n      <td>-79.304302</td>\n    </tr>\n    <tr>\n      <th>M1V</th>\n      <td>Scarborough</td>\n      <td>Steeles East,Milliken,Agincourt North,L'Amorea...</td>\n      <td>43.815252</td>\n      <td>-79.284577</td>\n    </tr>\n    <tr>\n      <th>M1W</th>\n      <td>Scarborough</td>\n      <td>L'Amoreaux West</td>\n      <td>43.799525</td>\n      <td>-79.318389</td>\n    </tr>\n    <tr>\n      <th>M1X</th>\n      <td>Scarborough</td>\n      <td>Upper Rouge</td>\n      <td>43.836125</td>\n      <td>-79.205636</td>\n    </tr>\n    <tr>\n      <th>M2H</th>\n      <td>North York</td>\n      <td>Hillcrest Village</td>\n      <td>43.803762</td>\n      <td>-79.363452</td>\n    </tr>\n    <tr>\n      <th>M2J</th>\n      <td>North York</td>\n      <td>Oriole,Fairview,Henry Farm</td>\n      <td>43.778517</td>\n      <td>-79.346556</td>\n    </tr>\n    <tr>\n      <th>M2K</th>\n      <td>North York</td>\n      <td>Bayview Village</td>\n      <td>43.786947</td>\n      <td>-79.385975</td>\n    </tr>\n    <tr>\n      <th>M2L</th>\n      <td>North York</td>\n      <td>York Mills,Silver Hills</td>\n      <td>43.757490</td>\n      <td>-79.374714</td>\n    </tr>\n    <tr>\n      <th>M2M</th>\n      <td>North York</td>\n      <td>Newtonbrook,Willowdale</td>\n      <td>43.789053</td>\n      <td>-79.408493</td>\n    </tr>\n    <tr>\n      <th>M2N</th>\n      <td>North York</td>\n      <td>Willowdale South</td>\n      <td>43.770120</td>\n      <td>-79.408493</td>\n    </tr>\n    <tr>\n      <th>M2P</th>\n      <td>North York</td>\n      <td>York Mills West</td>\n      <td>43.752758</td>\n      <td>-79.400049</td>\n    </tr>\n    <tr>\n      <th>M2R</th>\n      <td>North York</td>\n      <td>Willowdale West</td>\n      <td>43.782736</td>\n      <td>-79.442259</td>\n    </tr>\n    <tr>\n      <th>M3A</th>\n      <td>North York</td>\n      <td>Parkwoods</td>\n      <td>43.753259</td>\n      <td>-79.329656</td>\n    </tr>\n    <tr>\n      <th>M3B</th>\n      <td>North York</td>\n      <td>Don Mills North</td>\n      <td>43.745906</td>\n      <td>-79.352188</td>\n    </tr>\n    <tr>\n      <th>M3C</th>\n      <td>North York</td>\n      <td>Don Mills South,Flemingdon Park</td>\n      <td>43.725900</td>\n      <td>-79.340923</td>\n    </tr>\n    <tr>\n      <th>M3H</th>\n      <td>North York</td>\n      <td>Bathurst Manor,Downsview North,Wilson Heights</td>\n      <td>43.754328</td>\n      <td>-79.442259</td>\n    </tr>\n    <tr>\n      <th>M3J</th>\n      <td>North York</td>\n      <td>York University,Northwood Park</td>\n      <td>43.767980</td>\n      <td>-79.487262</td>\n    </tr>\n    <tr>\n      <th>...</th>\n      <td>...</td>\n      <td>...</td>\n      <td>...</td>\n      <td>...</td>\n    </tr>\n    <tr>\n      <th>M6C</th>\n      <td>York</td>\n      <td>Humewood-Cedarvale</td>\n      <td>43.693781</td>\n      <td>-79.428191</td>\n    </tr>\n    <tr>\n      <th>M6E</th>\n      <td>York</td>\n      <td>Caledonia-Fairbanks</td>\n      <td>43.689026</td>\n      <td>-79.453512</td>\n    </tr>\n    <tr>\n      <th>M6G</th>\n      <td>Downtown Toronto</td>\n      <td>Christie</td>\n      <td>43.669542</td>\n      <td>-79.422564</td>\n    </tr>\n    <tr>\n      <th>M6H</th>\n      <td>West Toronto</td>\n      <td>Dovercourt Village,Dufferin</td>\n      <td>43.669005</td>\n      <td>-79.442259</td>\n    </tr>\n    <tr>\n      <th>M6J</th>\n      <td>West Toronto</td>\n      <td>Little Portugal,Trinity</td>\n      <td>43.647927</td>\n      <td>-79.419750</td>\n    </tr>\n    <tr>\n      <th>M6K</th>\n      <td>West Toronto</td>\n      <td>Exhibition Place,Parkdale Village,Brockton</td>\n      <td>43.636847</td>\n      <td>-79.428191</td>\n    </tr>\n    <tr>\n      <th>M6L</th>\n      <td>North York</td>\n      <td>North Park,Upwood Park,Downsview</td>\n      <td>43.713756</td>\n      <td>-79.490074</td>\n    </tr>\n    <tr>\n      <th>M6M</th>\n      <td>York</td>\n      <td>Mount Dennis,Silverthorn,Keelesdale,Del Ray</td>\n      <td>43.691116</td>\n      <td>-79.476013</td>\n    </tr>\n    <tr>\n      <th>M6N</th>\n      <td>York</td>\n      <td>Runnymede,The Junction North</td>\n      <td>43.673185</td>\n      <td>-79.487262</td>\n    </tr>\n    <tr>\n      <th>M6P</th>\n      <td>West Toronto</td>\n      <td>The Junction South,High Park</td>\n      <td>43.661608</td>\n      <td>-79.464763</td>\n    </tr>\n    <tr>\n      <th>M6R</th>\n      <td>West Toronto</td>\n      <td>Roncesvalles,Parkdale</td>\n      <td>43.648960</td>\n      <td>-79.456325</td>\n    </tr>\n    <tr>\n      <th>M6S</th>\n      <td>West Toronto</td>\n      <td>Swansea,Runnymede</td>\n      <td>43.651571</td>\n      <td>-79.484450</td>\n    </tr>\n    <tr>\n      <th>M7A</th>\n      <td>Downtown Toronto</td>\n      <td>Queen's Park</td>\n      <td>43.662301</td>\n      <td>-79.389494</td>\n    </tr>\n    <tr>\n      <th>M7R</th>\n      <td>Mississauga</td>\n      <td>Canada Post Gateway Processing Centre</td>\n      <td>43.636966</td>\n      <td>-79.615819</td>\n    </tr>\n    <tr>\n      <th>M7Y</th>\n      <td>East Toronto</td>\n      <td>Business Reply Mail Processing Centre 969 Eastern</td>\n      <td>43.662744</td>\n      <td>-79.321558</td>\n    </tr>\n    <tr>\n      <th>M8V</th>\n      <td>Etobicoke</td>\n      <td>Humber Bay Shores,Mimico South,New Toronto</td>\n      <td>43.605647</td>\n      <td>-79.501321</td>\n    </tr>\n    <tr>\n      <th>M8W</th>\n      <td>Etobicoke</td>\n      <td>Alderwood,Long Branch</td>\n      <td>43.602414</td>\n      <td>-79.543484</td>\n    </tr>\n    <tr>\n      <th>M8X</th>\n      <td>Etobicoke</td>\n      <td>Montgomery Road,The Kingsway,Old Mill North</td>\n      <td>43.653654</td>\n      <td>-79.506944</td>\n    </tr>\n    <tr>\n      <th>M8Y</th>\n      <td>Etobicoke</td>\n      <td>King's Mill Park,Old Mill South,Kingsway Park ...</td>\n      <td>43.636258</td>\n      <td>-79.498509</td>\n    </tr>\n    <tr>\n      <th>M8Z</th>\n      <td>Etobicoke</td>\n      <td>The Queensway West,Royal York South West,Mimic...</td>\n      <td>43.628841</td>\n      <td>-79.520999</td>\n    </tr>\n    <tr>\n      <th>M9A</th>\n      <td>Queen's Park</td>\n      <td>Queen's Park</td>\n      <td>43.667856</td>\n      <td>-79.532242</td>\n    </tr>\n    <tr>\n      <th>M9B</th>\n      <td>Etobicoke</td>\n      <td>Islington,Cloverdale,West Deane Park,Martin Gr...</td>\n      <td>43.650943</td>\n      <td>-79.554724</td>\n    </tr>\n    <tr>\n      <th>M9C</th>\n      <td>Etobicoke</td>\n      <td>Markland Wood,Eringate,Bloordale Gardens,Old B...</td>\n      <td>43.643515</td>\n      <td>-79.577201</td>\n    </tr>\n    <tr>\n      <th>M9L</th>\n      <td>North York</td>\n      <td>Humber Summit</td>\n      <td>43.756303</td>\n      <td>-79.565963</td>\n    </tr>\n    <tr>\n      <th>M9M</th>\n      <td>North York</td>\n      <td>Emery,Humberlea</td>\n      <td>43.724766</td>\n      <td>-79.532242</td>\n    </tr>\n    <tr>\n      <th>M9N</th>\n      <td>York</td>\n      <td>Weston</td>\n      <td>43.706876</td>\n      <td>-79.518188</td>\n    </tr>\n    <tr>\n      <th>M9P</th>\n      <td>Etobicoke</td>\n      <td>Westmount</td>\n      <td>43.696319</td>\n      <td>-79.532242</td>\n    </tr>\n    <tr>\n      <th>M9R</th>\n      <td>Etobicoke</td>\n      <td>Kingsview Village,St. Phillips,Richview Garden...</td>\n      <td>43.688905</td>\n      <td>-79.554724</td>\n    </tr>\n    <tr>\n      <th>M9V</th>\n      <td>Etobicoke</td>\n      <td>Albion Gardens,Jamestown,Thistletown,Humbergat...</td>\n      <td>43.739416</td>\n      <td>-79.588437</td>\n    </tr>\n    <tr>\n      <th>M9W</th>\n      <td>Etobicoke</td>\n      <td>Northwest</td>\n      <td>43.706748</td>\n      <td>-79.594054</td>\n    </tr>\n  </tbody>\n</table>\n<p>103 rows \u00d7 4 columns</p>\n</div>"
                    },
                    "metadata": {}
                }
            ]
        },
        {
            "metadata": {},
            "cell_type": "code",
            "source": "",
            "execution_count": null,
            "outputs": []
        },
        {
            "metadata": {},
            "cell_type": "code",
            "source": "",
            "execution_count": null,
            "outputs": []
        },
        {
            "metadata": {},
            "cell_type": "markdown",
            "source": "### Borough Toronto"
        },
        {
            "metadata": {},
            "cell_type": "code",
            "source": "toro_df = df[ df.Borough.str.contains('Toronto') ]\ntoro_df.reset_index(inplace=True)\ntoro_df",
            "execution_count": 8,
            "outputs": [
                {
                    "output_type": "execute_result",
                    "execution_count": 8,
                    "data": {
                        "text/plain": "   Postcode           Borough  \\\n0       M4E      East Toronto   \n1       M4K      East Toronto   \n2       M4L      East Toronto   \n3       M4M      East Toronto   \n4       M4N   Central Toronto   \n5       M4P   Central Toronto   \n6       M4R   Central Toronto   \n7       M4S   Central Toronto   \n8       M4T   Central Toronto   \n9       M4V   Central Toronto   \n10      M4W  Downtown Toronto   \n11      M4X  Downtown Toronto   \n12      M4Y  Downtown Toronto   \n13      M5A  Downtown Toronto   \n14      M5B  Downtown Toronto   \n15      M5C  Downtown Toronto   \n16      M5E  Downtown Toronto   \n17      M5G  Downtown Toronto   \n18      M5H  Downtown Toronto   \n19      M5J  Downtown Toronto   \n20      M5K  Downtown Toronto   \n21      M5L  Downtown Toronto   \n22      M5N   Central Toronto   \n23      M5P   Central Toronto   \n24      M5R   Central Toronto   \n25      M5S  Downtown Toronto   \n26      M5T  Downtown Toronto   \n27      M5V  Downtown Toronto   \n28      M5W  Downtown Toronto   \n29      M5X  Downtown Toronto   \n30      M6G  Downtown Toronto   \n31      M6H      West Toronto   \n32      M6J      West Toronto   \n33      M6K      West Toronto   \n34      M6P      West Toronto   \n35      M6R      West Toronto   \n36      M6S      West Toronto   \n37      M7A  Downtown Toronto   \n38      M7Y      East Toronto   \n\n                                        Neighbourhood   Latitude  Longitude  \n0                                         The Beaches  43.676357 -79.293031  \n1                         The Danforth West,Riverdale  43.679557 -79.352188  \n2                       The Beaches West,India Bazaar  43.668999 -79.315572  \n3                                     Studio District  43.659526 -79.340923  \n4                                       Lawrence Park  43.728020 -79.388790  \n5                                    Davisville North  43.712751 -79.390197  \n6                                  North Toronto West  43.715383 -79.405678  \n7                                          Davisville  43.704324 -79.388790  \n8                          Summerhill East,Moore Park  43.689574 -79.383160  \n9   Summerhill West,Deer Park,Rathnelly,South Hill...  43.686412 -79.400049  \n10                                           Rosedale  43.679563 -79.377529  \n11                         Cabbagetown,St. James Town  43.667967 -79.367675  \n12                               Church and Wellesley  43.665860 -79.383160  \n13                                       Harbourfront  43.654260 -79.360636  \n14                            Ryerson,Garden District  43.657162 -79.378937  \n15                                     St. James Town  43.651494 -79.375418  \n16                                        Berczy Park  43.644771 -79.373306  \n17                                 Central Bay Street  43.657952 -79.387383  \n18                             King,Richmond,Adelaide  43.650571 -79.384568  \n19    Toronto Islands,Harbourfront East,Union Station  43.640816 -79.381752  \n20            Design Exchange,Toronto Dominion Centre  43.647177 -79.381576  \n21                      Victoria Hotel,Commerce Court  43.648198 -79.379817  \n22                                           Roselawn  43.711695 -79.416936  \n23                 Forest Hill North,Forest Hill West  43.696948 -79.411307  \n24                  North Midtown,Yorkville,The Annex  43.672710 -79.405678  \n25                      University of Toronto,Harbord  43.662696 -79.400049  \n26            Kensington Market,Grange Park,Chinatown  43.653206 -79.400049  \n27  South Niagara,King and Spadina,Island airport,...  43.628947 -79.394420  \n28                    Stn A PO Boxes 25 The Esplanade  43.646435 -79.374846  \n29              First Canadian Place,Underground city  43.648429 -79.382280  \n30                                           Christie  43.669542 -79.422564  \n31                        Dovercourt Village,Dufferin  43.669005 -79.442259  \n32                            Little Portugal,Trinity  43.647927 -79.419750  \n33         Exhibition Place,Parkdale Village,Brockton  43.636847 -79.428191  \n34                       The Junction South,High Park  43.661608 -79.464763  \n35                              Roncesvalles,Parkdale  43.648960 -79.456325  \n36                                  Swansea,Runnymede  43.651571 -79.484450  \n37                                       Queen's Park  43.662301 -79.389494  \n38  Business Reply Mail Processing Centre 969 Eastern  43.662744 -79.321558  ",
                        "text/html": "<div>\n<style scoped>\n    .dataframe tbody tr th:only-of-type {\n        vertical-align: middle;\n    }\n\n    .dataframe tbody tr th {\n        vertical-align: top;\n    }\n\n    .dataframe thead th {\n        text-align: right;\n    }\n</style>\n<table border=\"1\" class=\"dataframe\">\n  <thead>\n    <tr style=\"text-align: right;\">\n      <th></th>\n      <th>Postcode</th>\n      <th>Borough</th>\n      <th>Neighbourhood</th>\n      <th>Latitude</th>\n      <th>Longitude</th>\n    </tr>\n  </thead>\n  <tbody>\n    <tr>\n      <th>0</th>\n      <td>M4E</td>\n      <td>East Toronto</td>\n      <td>The Beaches</td>\n      <td>43.676357</td>\n      <td>-79.293031</td>\n    </tr>\n    <tr>\n      <th>1</th>\n      <td>M4K</td>\n      <td>East Toronto</td>\n      <td>The Danforth West,Riverdale</td>\n      <td>43.679557</td>\n      <td>-79.352188</td>\n    </tr>\n    <tr>\n      <th>2</th>\n      <td>M4L</td>\n      <td>East Toronto</td>\n      <td>The Beaches West,India Bazaar</td>\n      <td>43.668999</td>\n      <td>-79.315572</td>\n    </tr>\n    <tr>\n      <th>3</th>\n      <td>M4M</td>\n      <td>East Toronto</td>\n      <td>Studio District</td>\n      <td>43.659526</td>\n      <td>-79.340923</td>\n    </tr>\n    <tr>\n      <th>4</th>\n      <td>M4N</td>\n      <td>Central Toronto</td>\n      <td>Lawrence Park</td>\n      <td>43.728020</td>\n      <td>-79.388790</td>\n    </tr>\n    <tr>\n      <th>5</th>\n      <td>M4P</td>\n      <td>Central Toronto</td>\n      <td>Davisville North</td>\n      <td>43.712751</td>\n      <td>-79.390197</td>\n    </tr>\n    <tr>\n      <th>6</th>\n      <td>M4R</td>\n      <td>Central Toronto</td>\n      <td>North Toronto West</td>\n      <td>43.715383</td>\n      <td>-79.405678</td>\n    </tr>\n    <tr>\n      <th>7</th>\n      <td>M4S</td>\n      <td>Central Toronto</td>\n      <td>Davisville</td>\n      <td>43.704324</td>\n      <td>-79.388790</td>\n    </tr>\n    <tr>\n      <th>8</th>\n      <td>M4T</td>\n      <td>Central Toronto</td>\n      <td>Summerhill East,Moore Park</td>\n      <td>43.689574</td>\n      <td>-79.383160</td>\n    </tr>\n    <tr>\n      <th>9</th>\n      <td>M4V</td>\n      <td>Central Toronto</td>\n      <td>Summerhill West,Deer Park,Rathnelly,South Hill...</td>\n      <td>43.686412</td>\n      <td>-79.400049</td>\n    </tr>\n    <tr>\n      <th>10</th>\n      <td>M4W</td>\n      <td>Downtown Toronto</td>\n      <td>Rosedale</td>\n      <td>43.679563</td>\n      <td>-79.377529</td>\n    </tr>\n    <tr>\n      <th>11</th>\n      <td>M4X</td>\n      <td>Downtown Toronto</td>\n      <td>Cabbagetown,St. James Town</td>\n      <td>43.667967</td>\n      <td>-79.367675</td>\n    </tr>\n    <tr>\n      <th>12</th>\n      <td>M4Y</td>\n      <td>Downtown Toronto</td>\n      <td>Church and Wellesley</td>\n      <td>43.665860</td>\n      <td>-79.383160</td>\n    </tr>\n    <tr>\n      <th>13</th>\n      <td>M5A</td>\n      <td>Downtown Toronto</td>\n      <td>Harbourfront</td>\n      <td>43.654260</td>\n      <td>-79.360636</td>\n    </tr>\n    <tr>\n      <th>14</th>\n      <td>M5B</td>\n      <td>Downtown Toronto</td>\n      <td>Ryerson,Garden District</td>\n      <td>43.657162</td>\n      <td>-79.378937</td>\n    </tr>\n    <tr>\n      <th>15</th>\n      <td>M5C</td>\n      <td>Downtown Toronto</td>\n      <td>St. James Town</td>\n      <td>43.651494</td>\n      <td>-79.375418</td>\n    </tr>\n    <tr>\n      <th>16</th>\n      <td>M5E</td>\n      <td>Downtown Toronto</td>\n      <td>Berczy Park</td>\n      <td>43.644771</td>\n      <td>-79.373306</td>\n    </tr>\n    <tr>\n      <th>17</th>\n      <td>M5G</td>\n      <td>Downtown Toronto</td>\n      <td>Central Bay Street</td>\n      <td>43.657952</td>\n      <td>-79.387383</td>\n    </tr>\n    <tr>\n      <th>18</th>\n      <td>M5H</td>\n      <td>Downtown Toronto</td>\n      <td>King,Richmond,Adelaide</td>\n      <td>43.650571</td>\n      <td>-79.384568</td>\n    </tr>\n    <tr>\n      <th>19</th>\n      <td>M5J</td>\n      <td>Downtown Toronto</td>\n      <td>Toronto Islands,Harbourfront East,Union Station</td>\n      <td>43.640816</td>\n      <td>-79.381752</td>\n    </tr>\n    <tr>\n      <th>20</th>\n      <td>M5K</td>\n      <td>Downtown Toronto</td>\n      <td>Design Exchange,Toronto Dominion Centre</td>\n      <td>43.647177</td>\n      <td>-79.381576</td>\n    </tr>\n    <tr>\n      <th>21</th>\n      <td>M5L</td>\n      <td>Downtown Toronto</td>\n      <td>Victoria Hotel,Commerce Court</td>\n      <td>43.648198</td>\n      <td>-79.379817</td>\n    </tr>\n    <tr>\n      <th>22</th>\n      <td>M5N</td>\n      <td>Central Toronto</td>\n      <td>Roselawn</td>\n      <td>43.711695</td>\n      <td>-79.416936</td>\n    </tr>\n    <tr>\n      <th>23</th>\n      <td>M5P</td>\n      <td>Central Toronto</td>\n      <td>Forest Hill North,Forest Hill West</td>\n      <td>43.696948</td>\n      <td>-79.411307</td>\n    </tr>\n    <tr>\n      <th>24</th>\n      <td>M5R</td>\n      <td>Central Toronto</td>\n      <td>North Midtown,Yorkville,The Annex</td>\n      <td>43.672710</td>\n      <td>-79.405678</td>\n    </tr>\n    <tr>\n      <th>25</th>\n      <td>M5S</td>\n      <td>Downtown Toronto</td>\n      <td>University of Toronto,Harbord</td>\n      <td>43.662696</td>\n      <td>-79.400049</td>\n    </tr>\n    <tr>\n      <th>26</th>\n      <td>M5T</td>\n      <td>Downtown Toronto</td>\n      <td>Kensington Market,Grange Park,Chinatown</td>\n      <td>43.653206</td>\n      <td>-79.400049</td>\n    </tr>\n    <tr>\n      <th>27</th>\n      <td>M5V</td>\n      <td>Downtown Toronto</td>\n      <td>South Niagara,King and Spadina,Island airport,...</td>\n      <td>43.628947</td>\n      <td>-79.394420</td>\n    </tr>\n    <tr>\n      <th>28</th>\n      <td>M5W</td>\n      <td>Downtown Toronto</td>\n      <td>Stn A PO Boxes 25 The Esplanade</td>\n      <td>43.646435</td>\n      <td>-79.374846</td>\n    </tr>\n    <tr>\n      <th>29</th>\n      <td>M5X</td>\n      <td>Downtown Toronto</td>\n      <td>First Canadian Place,Underground city</td>\n      <td>43.648429</td>\n      <td>-79.382280</td>\n    </tr>\n    <tr>\n      <th>30</th>\n      <td>M6G</td>\n      <td>Downtown Toronto</td>\n      <td>Christie</td>\n      <td>43.669542</td>\n      <td>-79.422564</td>\n    </tr>\n    <tr>\n      <th>31</th>\n      <td>M6H</td>\n      <td>West Toronto</td>\n      <td>Dovercourt Village,Dufferin</td>\n      <td>43.669005</td>\n      <td>-79.442259</td>\n    </tr>\n    <tr>\n      <th>32</th>\n      <td>M6J</td>\n      <td>West Toronto</td>\n      <td>Little Portugal,Trinity</td>\n      <td>43.647927</td>\n      <td>-79.419750</td>\n    </tr>\n    <tr>\n      <th>33</th>\n      <td>M6K</td>\n      <td>West Toronto</td>\n      <td>Exhibition Place,Parkdale Village,Brockton</td>\n      <td>43.636847</td>\n      <td>-79.428191</td>\n    </tr>\n    <tr>\n      <th>34</th>\n      <td>M6P</td>\n      <td>West Toronto</td>\n      <td>The Junction South,High Park</td>\n      <td>43.661608</td>\n      <td>-79.464763</td>\n    </tr>\n    <tr>\n      <th>35</th>\n      <td>M6R</td>\n      <td>West Toronto</td>\n      <td>Roncesvalles,Parkdale</td>\n      <td>43.648960</td>\n      <td>-79.456325</td>\n    </tr>\n    <tr>\n      <th>36</th>\n      <td>M6S</td>\n      <td>West Toronto</td>\n      <td>Swansea,Runnymede</td>\n      <td>43.651571</td>\n      <td>-79.484450</td>\n    </tr>\n    <tr>\n      <th>37</th>\n      <td>M7A</td>\n      <td>Downtown Toronto</td>\n      <td>Queen's Park</td>\n      <td>43.662301</td>\n      <td>-79.389494</td>\n    </tr>\n    <tr>\n      <th>38</th>\n      <td>M7Y</td>\n      <td>East Toronto</td>\n      <td>Business Reply Mail Processing Centre 969 Eastern</td>\n      <td>43.662744</td>\n      <td>-79.321558</td>\n    </tr>\n  </tbody>\n</table>\n</div>"
                    },
                    "metadata": {}
                }
            ]
        },
        {
            "metadata": {},
            "cell_type": "code",
            "source": "",
            "execution_count": null,
            "outputs": []
        },
        {
            "metadata": {},
            "cell_type": "markdown",
            "source": "# Question 3"
        },
        {
            "metadata": {},
            "cell_type": "markdown",
            "source": "### Create Geography map of Toronto"
        },
        {
            "metadata": {},
            "cell_type": "code",
            "source": "from geopy.geocoders import Nominatim\n\naddress = 'Toronto'\n\ngeolocator = Nominatim(user_agent=\"toronto_explorer\")\nlocation = geolocator.geocode(address)\nlatitude = location.latitude\nlongitude = location.longitude\nprint('The geograpical coordinate of Toronto, Canada is {}, {}.'.format(latitude, longitude))",
            "execution_count": 11,
            "outputs": [
                {
                    "output_type": "stream",
                    "text": "The geograpical coordinate of Toronto, Canada is 43.653963, -79.387207.\n",
                    "name": "stdout"
                }
            ]
        },
        {
            "metadata": {},
            "cell_type": "code",
            "source": "",
            "execution_count": null,
            "outputs": []
        },
        {
            "metadata": {},
            "cell_type": "code",
            "source": "#!conda install -c conda-forge folium=0.5.0 --yes\nimport folium",
            "execution_count": 15,
            "outputs": [
                {
                    "output_type": "stream",
                    "text": "Solving environment: done\n\n# All requested packages already installed.\n\n",
                    "name": "stdout"
                }
            ]
        },
        {
            "metadata": {},
            "cell_type": "code",
            "source": "map_toro = folium.Map(location=[latitude, longitude], zoom_start=10)",
            "execution_count": 17,
            "outputs": []
        },
        {
            "metadata": {},
            "cell_type": "code",
            "source": "",
            "execution_count": null,
            "outputs": []
        },
        {
            "metadata": {},
            "cell_type": "code",
            "source": "",
            "execution_count": null,
            "outputs": []
        },
        {
            "metadata": {},
            "cell_type": "code",
            "source": "",
            "execution_count": null,
            "outputs": []
        },
        {
            "metadata": {},
            "cell_type": "code",
            "source": "",
            "execution_count": null,
            "outputs": []
        },
        {
            "metadata": {},
            "cell_type": "code",
            "source": "",
            "execution_count": null,
            "outputs": []
        },
        {
            "metadata": {},
            "cell_type": "code",
            "source": "",
            "execution_count": null,
            "outputs": []
        },
        {
            "metadata": {},
            "cell_type": "code",
            "source": "",
            "execution_count": null,
            "outputs": []
        },
        {
            "metadata": {},
            "cell_type": "code",
            "source": "",
            "execution_count": null,
            "outputs": []
        },
        {
            "metadata": {},
            "cell_type": "code",
            "source": "",
            "execution_count": null,
            "outputs": []
        }
    ],
    "metadata": {
        "kernelspec": {
            "name": "python3",
            "display_name": "Python 3.6",
            "language": "python"
        },
        "language_info": {
            "name": "python",
            "version": "3.6.9",
            "mimetype": "text/x-python",
            "codemirror_mode": {
                "name": "ipython",
                "version": 3
            },
            "pygments_lexer": "ipython3",
            "nbconvert_exporter": "python",
            "file_extension": ".py"
        }
    },
    "nbformat": 4,
    "nbformat_minor": 1
}